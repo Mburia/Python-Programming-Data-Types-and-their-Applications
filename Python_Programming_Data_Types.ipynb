{
  "nbformat": 4,
  "nbformat_minor": 0,
  "metadata": {
    "colab": {
      "name": "Copy of Python Programming: Data Types",
      "provenance": [],
      "collapsed_sections": [
        "Fti179OmKM7c",
        "UxdDFPQKz3NS",
        "-BkSbASJUdKQ",
        "a_8-Y8pFUfZ4",
        "zH4fP7JMUqPG",
        "A5_RAp55UkF6",
        "s547kw_RlMAo",
        "lgNykfkVlPAq",
        "-HTYwkHal6e7",
        "KyVOjrcMr4wI",
        "eib75N_EnVqp",
        "1x6Hvs-jrru7"
      ],
      "toc_visible": true
    },
    "kernelspec": {
      "name": "python3",
      "display_name": "Python 3"
    }
  },
  "cells": [
    {
      "cell_type": "markdown",
      "metadata": {
        "id": "g4atfIoY1BjY"
      },
      "source": [
        "# Python Programming: Data Types"
      ]
    },
    {
      "cell_type": "markdown",
      "metadata": {
        "id": "Fti179OmKM7c"
      },
      "source": [
        "## 1.1 Introduction"
      ]
    },
    {
      "cell_type": "markdown",
      "metadata": {
        "id": "_Kl5unZ9KPIY"
      },
      "source": [
        "There are many different data types in Python. These data types can also be referred to as types of objects. We can start with the most common object types: strings, integers and floats. Anytime you write words (text) in Python, you're using character strings (strings for short). The most common numbers, on the other hand, are integers (e.g. -1, 0, 100) and floats, which represent real numbers (e.g. 3.14, -42.0)."
      ]
    },
    {
      "cell_type": "markdown",
      "metadata": {
        "id": "F8zU7otKNuU3"
      },
      "source": [
        "The following are examples of values with different data types;"
      ]
    },
    {
      "cell_type": "code",
      "metadata": {
        "id": "aLU0ZCM4KKMZ",
        "colab": {
          "base_uri": "https://localhost:8080/",
          "height": 34
        },
        "outputId": "acfb429c-0746-4696-c309-eb6e25a4947f"
      },
      "source": [
        "# Example 1\n",
        "# Integer Data Type\n",
        "#\n",
        "55"
      ],
      "execution_count": null,
      "outputs": [
        {
          "output_type": "execute_result",
          "data": {
            "text/plain": [
              "55"
            ]
          },
          "metadata": {
            "tags": []
          },
          "execution_count": 1
        }
      ]
    },
    {
      "cell_type": "code",
      "metadata": {
        "id": "dm_ofqvwPQuP",
        "colab": {
          "base_uri": "https://localhost:8080/",
          "height": 34
        },
        "outputId": "7e909d44-e94c-446f-dab9-3402a5e8f9c2"
      },
      "source": [
        "# Example 2\n",
        "# Float Data Type\n",
        "#\n",
        "3.142"
      ],
      "execution_count": null,
      "outputs": [
        {
          "output_type": "execute_result",
          "data": {
            "text/plain": [
              "3.142"
            ]
          },
          "metadata": {
            "tags": []
          },
          "execution_count": 2
        }
      ]
    },
    {
      "cell_type": "code",
      "metadata": {
        "id": "Vjla31TDQg4R",
        "colab": {
          "base_uri": "https://localhost:8080/",
          "height": 35
        },
        "outputId": "5f98648e-979f-402a-bffa-5286b9ec6e77"
      },
      "source": [
        "# Example 3\n",
        "# String Data Type\n",
        "#\n",
        "\"Data Science\" "
      ],
      "execution_count": 1,
      "outputs": [
        {
          "output_type": "execute_result",
          "data": {
            "application/vnd.google.colaboratory.intrinsic+json": {
              "type": "string"
            },
            "text/plain": [
              "'Data Science'"
            ]
          },
          "metadata": {
            "tags": []
          },
          "execution_count": 1
        }
      ]
    },
    {
      "cell_type": "markdown",
      "metadata": {
        "id": "uqmC6vfr24_f"
      },
      "source": [
        "### <font color=\"green\">1.1 Challenges </font>\n"
      ]
    },
    {
      "cell_type": "code",
      "metadata": {
        "id": "IpyXzkyYRnJ1",
        "colab": {
          "base_uri": "https://localhost:8080/",
          "height": 34
        },
        "outputId": "81eecf40-aad1-4d7c-b054-650d3600e071"
      },
      "source": [
        "# Challenge 1\n",
        "# Write a value with an Integer data type \n",
        "# \n",
        "2"
      ],
      "execution_count": null,
      "outputs": [
        {
          "output_type": "execute_result",
          "data": {
            "text/plain": [
              "2"
            ]
          },
          "metadata": {
            "tags": []
          },
          "execution_count": 5
        }
      ]
    },
    {
      "cell_type": "code",
      "metadata": {
        "id": "fTkeiMm6Rrhc",
        "colab": {
          "base_uri": "https://localhost:8080/",
          "height": 34
        },
        "outputId": "21449d28-a230-457d-b792-10a287bda0db"
      },
      "source": [
        "# Challenge 2 \n",
        "# Write any value with a Float Data Type \n",
        "# \n",
        "2.21"
      ],
      "execution_count": null,
      "outputs": [
        {
          "output_type": "execute_result",
          "data": {
            "text/plain": [
              "2.21"
            ]
          },
          "metadata": {
            "tags": []
          },
          "execution_count": 6
        }
      ]
    },
    {
      "cell_type": "code",
      "metadata": {
        "id": "-yxfZtWqRuoA",
        "colab": {
          "base_uri": "https://localhost:8080/",
          "height": 34
        },
        "outputId": "fad4a065-bc29-48f1-f7d3-40afb4c334ec"
      },
      "source": [
        "# Challenge 3\n",
        "# Write any value with a String Data Type \n",
        "# \n",
        "\"I happen to be really good at coding\""
      ],
      "execution_count": null,
      "outputs": [
        {
          "output_type": "execute_result",
          "data": {
            "text/plain": [
              "'I happen to be really good at coding'"
            ]
          },
          "metadata": {
            "tags": []
          },
          "execution_count": 7
        }
      ]
    },
    {
      "cell_type": "markdown",
      "metadata": {
        "id": "UxdDFPQKz3NS"
      },
      "source": [
        "## 1.2 Finding Out Types"
      ]
    },
    {
      "cell_type": "markdown",
      "metadata": {
        "id": "sgBUpOEqRe8d"
      },
      "source": [
        "We can get Python to tell us the type of an expression by using the built-in type() function. We'll notice that Python refers to integers as int, floats as float, and character strings as str."
      ]
    },
    {
      "cell_type": "code",
      "metadata": {
        "id": "GQZq_V9NS09i",
        "colab": {
          "base_uri": "https://localhost:8080/",
          "height": 34
        },
        "outputId": "770d0a61-708c-4298-f031-2db1f1682fe3"
      },
      "source": [
        "# Example 1\n",
        "# Finding out the type of 55\n",
        "#\n",
        "type(55)"
      ],
      "execution_count": null,
      "outputs": [
        {
          "output_type": "execute_result",
          "data": {
            "text/plain": [
              "int"
            ]
          },
          "metadata": {
            "tags": []
          },
          "execution_count": 8
        }
      ]
    },
    {
      "cell_type": "code",
      "metadata": {
        "id": "mKoaAXlNS8pt",
        "colab": {
          "base_uri": "https://localhost:8080/",
          "height": 34
        },
        "outputId": "843362b1-7c16-42b7-e43d-b97a73e0b67c"
      },
      "source": [
        "# Example 2\n",
        "# Finding out the type of 3.142\n",
        "#\n",
        "type(3.142)"
      ],
      "execution_count": null,
      "outputs": [
        {
          "output_type": "execute_result",
          "data": {
            "text/plain": [
              "float"
            ]
          },
          "metadata": {
            "tags": []
          },
          "execution_count": 9
        }
      ]
    },
    {
      "cell_type": "code",
      "metadata": {
        "id": "55FxpuwtS8So",
        "colab": {
          "base_uri": "https://localhost:8080/"
        },
        "outputId": "aac18cd7-cad5-42a9-c5dd-9e8ae39beb70"
      },
      "source": [
        "# Example 3\n",
        "# Finding out the type of \"Moringa Data Science\"\n",
        "#\n",
        "type(\"Data Science\")"
      ],
      "execution_count": 2,
      "outputs": [
        {
          "output_type": "execute_result",
          "data": {
            "text/plain": [
              "str"
            ]
          },
          "metadata": {
            "tags": []
          },
          "execution_count": 2
        }
      ]
    },
    {
      "cell_type": "markdown",
      "metadata": {
        "id": "gqLkQCti2_as"
      },
      "source": [
        "### <font color=\"green\">1.2 Challenges</font>"
      ]
    },
    {
      "cell_type": "code",
      "metadata": {
        "id": "9aeJPHk5RJW2",
        "colab": {
          "base_uri": "https://localhost:8080/",
          "height": 34
        },
        "outputId": "532b30b2-6f24-428e-86ed-c1198da64414"
      },
      "source": [
        "# Challenge 4 \n",
        "# Now lets find out the type of our value in Challenge #1\n",
        "#\n",
        "type(2)"
      ],
      "execution_count": null,
      "outputs": [
        {
          "output_type": "execute_result",
          "data": {
            "text/plain": [
              "int"
            ]
          },
          "metadata": {
            "tags": []
          },
          "execution_count": 11
        }
      ]
    },
    {
      "cell_type": "code",
      "metadata": {
        "id": "xpxRzyfHT_VC",
        "colab": {
          "base_uri": "https://localhost:8080/",
          "height": 34
        },
        "outputId": "2b340ee7-f58d-4b29-f76e-caca0d381c06"
      },
      "source": [
        "# Challenge 5\n",
        "# What about the type of our value in Challenge #2\n",
        "# \n",
        "type(2.12)"
      ],
      "execution_count": null,
      "outputs": [
        {
          "output_type": "execute_result",
          "data": {
            "text/plain": [
              "float"
            ]
          },
          "metadata": {
            "tags": []
          },
          "execution_count": 12
        }
      ]
    },
    {
      "cell_type": "code",
      "metadata": {
        "id": "JSTdIHXdUErB",
        "colab": {
          "base_uri": "https://localhost:8080/",
          "height": 34
        },
        "outputId": "22efff8a-568b-482d-8778-d634839cc594"
      },
      "source": [
        "# Challenge 6\n",
        "# What about the type of our value in Challenge #3\n",
        "#\n",
        "type('I happen to be really good at coding')"
      ],
      "execution_count": null,
      "outputs": [
        {
          "output_type": "execute_result",
          "data": {
            "text/plain": [
              "str"
            ]
          },
          "metadata": {
            "tags": []
          },
          "execution_count": 13
        }
      ]
    },
    {
      "cell_type": "code",
      "metadata": {
        "id": "3A6nP_-XpcTA",
        "colab": {
          "base_uri": "https://localhost:8080/",
          "height": 34
        },
        "outputId": "10dc0243-d907-4950-b5bf-d0a5aad1085c"
      },
      "source": [
        "# Challenge 7 \n",
        "# What is the data type of the result of: 16 / 4?\n",
        "#\n",
        "type (16/4)"
      ],
      "execution_count": null,
      "outputs": [
        {
          "output_type": "execute_result",
          "data": {
            "text/plain": [
              "float"
            ]
          },
          "metadata": {
            "tags": []
          },
          "execution_count": 16
        }
      ]
    },
    {
      "cell_type": "code",
      "metadata": {
        "id": "_MC1ALIKpnyA",
        "colab": {
          "base_uri": "https://localhost:8080/",
          "height": 34
        },
        "outputId": "4a864283-6777-403b-f402-e11671ec2f01"
      },
      "source": [
        "# Challenge 8 \n",
        "# What is the type of the result of: 6 // 2? (Note the double slash //.)\n",
        "#\n",
        "type(16//4)"
      ],
      "execution_count": null,
      "outputs": [
        {
          "output_type": "execute_result",
          "data": {
            "text/plain": [
              "int"
            ]
          },
          "metadata": {
            "tags": []
          },
          "execution_count": 17
        }
      ]
    },
    {
      "cell_type": "code",
      "metadata": {
        "id": "dDF33m3swR-Z",
        "colab": {
          "base_uri": "https://localhost:8080/",
          "height": 34
        },
        "outputId": "d399b9e3-47ff-428e-feca-2e5d441cd962"
      },
      "source": [
        "# Challenge 9\n",
        "# What do you think is the output of type(a)? Run this cell and check\n",
        "# \n",
        "a = \"Learning Data Science is Easy\" \n",
        "a = 3\n",
        "type(a)"
      ],
      "execution_count": null,
      "outputs": [
        {
          "output_type": "execute_result",
          "data": {
            "text/plain": [
              "int"
            ]
          },
          "metadata": {
            "tags": []
          },
          "execution_count": 19
        }
      ]
    },
    {
      "cell_type": "code",
      "metadata": {
        "id": "2GaZ0Eggw7Iu",
        "colab": {
          "base_uri": "https://localhost:8080/",
          "height": 34
        },
        "outputId": "8d69cb9f-fdd1-4013-f141-5b28e3f29615"
      },
      "source": [
        "# Challenge 10\n",
        "# What do you think is the output of this cell? \n",
        "# Think about it then run it.\n",
        "#\n",
        "type(3.2) == float "
      ],
      "execution_count": null,
      "outputs": [
        {
          "output_type": "execute_result",
          "data": {
            "text/plain": [
              "True"
            ]
          },
          "metadata": {
            "tags": []
          },
          "execution_count": 22
        }
      ]
    },
    {
      "cell_type": "markdown",
      "metadata": {
        "id": "-BkSbASJUdKQ"
      },
      "source": [
        "## 1.3  Integers"
      ]
    },
    {
      "cell_type": "markdown",
      "metadata": {
        "id": "JyxHhUBWUrbg"
      },
      "source": [
        " Integers can be negative or positive numbers:"
      ]
    },
    {
      "cell_type": "code",
      "metadata": {
        "id": "BMEZZkF-Gv4s",
        "colab": {
          "base_uri": "https://localhost:8080/",
          "height": 34
        },
        "outputId": "34e42b65-ac6f-4edf-a83f-9c0f0e826f49"
      },
      "source": [
        "# Example 1\n",
        "# Again, we can verify whether this is the case by using the type() function\n",
        "#\n",
        "type(-300)"
      ],
      "execution_count": null,
      "outputs": [
        {
          "output_type": "execute_result",
          "data": {
            "text/plain": [
              "int"
            ]
          },
          "metadata": {
            "tags": []
          },
          "execution_count": 23
        }
      ]
    },
    {
      "cell_type": "markdown",
      "metadata": {
        "id": "Z6xx7moLqa2B"
      },
      "source": [
        "### <font color = \"green\">1.3 Challenges</font>"
      ]
    },
    {
      "cell_type": "code",
      "metadata": {
        "id": "dcOMS1Ywn2MG",
        "colab": {
          "base_uri": "https://localhost:8080/",
          "height": 34
        },
        "outputId": "e14c31df-0fcc-4acb-edb1-6923a79e5cec"
      },
      "source": [
        "# Challenge 1\n",
        "# What happens when we verify a positive number i.e 43\n",
        "#\n",
        "type(43)"
      ],
      "execution_count": null,
      "outputs": [
        {
          "output_type": "execute_result",
          "data": {
            "text/plain": [
              "int"
            ]
          },
          "metadata": {
            "tags": []
          },
          "execution_count": 24
        }
      ]
    },
    {
      "cell_type": "code",
      "metadata": {
        "id": "H0Ws1Ez1HqoT",
        "colab": {
          "base_uri": "https://localhost:8080/",
          "height": 34
        },
        "outputId": "bbd939b7-b35d-41dc-f202-03e815830a8e"
      },
      "source": [
        "# Challenge 2\n",
        "# Let's verify zero below \n",
        "# \n",
        "type (0)"
      ],
      "execution_count": null,
      "outputs": [
        {
          "output_type": "execute_result",
          "data": {
            "text/plain": [
              "int"
            ]
          },
          "metadata": {
            "tags": []
          },
          "execution_count": 28
        }
      ]
    },
    {
      "cell_type": "markdown",
      "metadata": {
        "id": "a_8-Y8pFUfZ4"
      },
      "source": [
        "## 1.4 Floats"
      ]
    },
    {
      "cell_type": "markdown",
      "metadata": {
        "id": "KK5QqqUFIorK"
      },
      "source": [
        "Floats represent real numbers; they also include \"numbers with decimals\". We can now test some examples with the type() function"
      ]
    },
    {
      "cell_type": "code",
      "metadata": {
        "id": "qLrhOz6eIpZ7",
        "colab": {
          "base_uri": "https://localhost:8080/",
          "height": 34
        },
        "outputId": "2db6173b-9ad7-43bd-d570-ddf2fa7fd943"
      },
      "source": [
        "# Example 1\n",
        "# Let's verify 1.0\n",
        "# \n",
        "type(1.0)"
      ],
      "execution_count": null,
      "outputs": [
        {
          "output_type": "execute_result",
          "data": {
            "text/plain": [
              "float"
            ]
          },
          "metadata": {
            "tags": []
          },
          "execution_count": 29
        }
      ]
    },
    {
      "cell_type": "markdown",
      "metadata": {
        "id": "Uc1Dx2gDqlQb"
      },
      "source": [
        "###<font color=\"green\"> 1.4 Challenges</font>"
      ]
    },
    {
      "cell_type": "code",
      "metadata": {
        "id": "AkXuR5UXoa4u",
        "colab": {
          "base_uri": "https://localhost:8080/",
          "height": 34
        },
        "outputId": "24ec1345-8c56-4be1-de93-2f48bc2c34da"
      },
      "source": [
        "# Challenge 1 \n",
        "# Let's now verify 0.7\n",
        "#\n",
        "type(0.7)"
      ],
      "execution_count": null,
      "outputs": [
        {
          "output_type": "execute_result",
          "data": {
            "text/plain": [
              "float"
            ]
          },
          "metadata": {
            "tags": []
          },
          "execution_count": 32
        }
      ]
    },
    {
      "cell_type": "code",
      "metadata": {
        "id": "W-dT0-3WWx7z",
        "colab": {
          "base_uri": "https://localhost:8080/",
          "height": 34
        },
        "outputId": "83535578-feaf-4a9d-a70d-77d9bf960671"
      },
      "source": [
        "# Challenge 2\n",
        "# Verifying the type of 0.53\n",
        "# \n",
        "type(0.53)"
      ],
      "execution_count": null,
      "outputs": [
        {
          "output_type": "execute_result",
          "data": {
            "text/plain": [
              "float"
            ]
          },
          "metadata": {
            "tags": []
          },
          "execution_count": 33
        }
      ]
    },
    {
      "cell_type": "markdown",
      "metadata": {
        "id": "zH4fP7JMUqPG"
      },
      "source": [
        "## 1.5 Boolean"
      ]
    },
    {
      "cell_type": "markdown",
      "metadata": {
        "id": "Bfvyjf_YmT-w"
      },
      "source": [
        "Boolean is another important type in Python. An object of type Boolean can take on one of two values: True or False:\n",
        "\n"
      ]
    },
    {
      "cell_type": "code",
      "metadata": {
        "id": "pLiD-enCmSyO",
        "colab": {
          "base_uri": "https://localhost:8080/",
          "height": 34
        },
        "outputId": "3b19f5c9-e174-4106-dc48-e6f798ffb8f5"
      },
      "source": [
        "# Example 1\n",
        "# Let's run this cell and see what happens\n",
        "#\n",
        "True"
      ],
      "execution_count": null,
      "outputs": [
        {
          "output_type": "execute_result",
          "data": {
            "text/plain": [
              "True"
            ]
          },
          "metadata": {
            "tags": []
          },
          "execution_count": 34
        }
      ]
    },
    {
      "cell_type": "code",
      "metadata": {
        "id": "irtYN0ZZmv5Z",
        "colab": {
          "base_uri": "https://localhost:8080/",
          "height": 34
        },
        "outputId": "6b46770b-98cb-4040-b924-abe017f8e35d"
      },
      "source": [
        "# Example 2\n",
        "# Let's also run this cell and see what happens\n",
        "#\n",
        "False"
      ],
      "execution_count": null,
      "outputs": [
        {
          "output_type": "execute_result",
          "data": {
            "text/plain": [
              "False"
            ]
          },
          "metadata": {
            "tags": []
          },
          "execution_count": 35
        }
      ]
    },
    {
      "cell_type": "markdown",
      "metadata": {
        "id": "u3G52jpj2veu"
      },
      "source": [
        "### <font color=\"green\">1.5 Challenges</font>"
      ]
    },
    {
      "cell_type": "code",
      "metadata": {
        "id": "graRe9NCmioG",
        "colab": {
          "base_uri": "https://localhost:8080/",
          "height": 34
        },
        "outputId": "4980d276-d155-4203-8fe4-1baf2ac19263"
      },
      "source": [
        "# Challenge 1 \n",
        "# What happens when we run 'true' in this cell\n",
        "#\n",
        "True"
      ],
      "execution_count": null,
      "outputs": [
        {
          "output_type": "execute_result",
          "data": {
            "text/plain": [
              "True"
            ]
          },
          "metadata": {
            "tags": []
          },
          "execution_count": 37
        }
      ]
    },
    {
      "cell_type": "code",
      "metadata": {
        "id": "MuyXiaUPmz9U",
        "colab": {
          "base_uri": "https://localhost:8080/",
          "height": 34
        },
        "outputId": "b1f8f30f-2043-46fd-e410-6ce84a2d5f1e"
      },
      "source": [
        "# Challenge 2\n",
        "# What about what happens when we run 'false' in this cell\n",
        "#\n",
        "(False)"
      ],
      "execution_count": null,
      "outputs": [
        {
          "output_type": "execute_result",
          "data": {
            "text/plain": [
              "False"
            ]
          },
          "metadata": {
            "tags": []
          },
          "execution_count": 38
        }
      ]
    },
    {
      "cell_type": "code",
      "metadata": {
        "id": "10qmsXWgm5Hk",
        "colab": {
          "base_uri": "https://localhost:8080/",
          "height": 34
        },
        "outputId": "b85edf73-69a6-4eef-de1f-dce1685e9a39"
      },
      "source": [
        "# Challenge 3\n",
        "# Let's also find out type of False in this cell\n",
        "#\n",
        "False"
      ],
      "execution_count": null,
      "outputs": [
        {
          "output_type": "execute_result",
          "data": {
            "text/plain": [
              "False"
            ]
          },
          "metadata": {
            "tags": []
          },
          "execution_count": 39
        }
      ]
    },
    {
      "cell_type": "markdown",
      "metadata": {
        "id": "A5_RAp55UkF6"
      },
      "source": [
        "## 1.6 Conversion of Types"
      ]
    },
    {
      "cell_type": "markdown",
      "metadata": {
        "id": "Ajd9s536Ul66"
      },
      "source": [
        "We can change the type of the object in Python; this is called typecasting. For example, we can convert an integer into a float (e.g. 2 to 2.0)."
      ]
    },
    {
      "cell_type": "code",
      "metadata": {
        "id": "yJCPR5BEXp3G",
        "colab": {
          "base_uri": "https://localhost:8080/",
          "height": 34
        },
        "outputId": "f35fb42c-445f-4349-817f-b2f929530c38"
      },
      "source": [
        "# Example 1 \n",
        "# Let's first verify that this is an integer by running this cell. \n",
        "#\n",
        "type(2) "
      ],
      "execution_count": null,
      "outputs": [
        {
          "output_type": "execute_result",
          "data": {
            "text/plain": [
              "int"
            ]
          },
          "metadata": {
            "tags": []
          },
          "execution_count": 42
        }
      ]
    },
    {
      "cell_type": "markdown",
      "metadata": {
        "id": "s547kw_RlMAo"
      },
      "source": [
        "### 1.6a. Converting integers to floats\n"
      ]
    },
    {
      "cell_type": "code",
      "metadata": {
        "id": "4mP_uTVYkoKn",
        "colab": {
          "base_uri": "https://localhost:8080/",
          "height": 34
        },
        "outputId": "52b87ce5-c5e6-4b56-a1d2-deb5ebb21d29"
      },
      "source": [
        "# Example 1\n",
        "# Let's now convert integer 2 to a float and check its type\n",
        "#\n",
        "type(float(2)) "
      ],
      "execution_count": null,
      "outputs": [
        {
          "output_type": "execute_result",
          "data": {
            "text/plain": [
              "float"
            ]
          },
          "metadata": {
            "tags": []
          },
          "execution_count": 43
        }
      ]
    },
    {
      "cell_type": "markdown",
      "metadata": {
        "id": "YWhO9m4mlAvg"
      },
      "source": [
        "When we convert an integer into a float, we don't really change the value (i.e., the significand) of the number. However, if we cast a float into an integer, we could potentially lose some information. For example, if we cast the float 1.1 to integer we will get 1 and lose the decimal information (i.e., 0.1):"
      ]
    },
    {
      "cell_type": "code",
      "metadata": {
        "id": "ghNEvJErk4Vu",
        "colab": {
          "base_uri": "https://localhost:8080/",
          "height": 34
        },
        "outputId": "a60e572d-76b4-48f3-d254-1d12d0f6139a"
      },
      "source": [
        "# Example 2\n",
        "# Casting 1.1 to integer will result in loss of information\n",
        "#\n",
        "int(1.1) "
      ],
      "execution_count": null,
      "outputs": [
        {
          "output_type": "execute_result",
          "data": {
            "text/plain": [
              "1"
            ]
          },
          "metadata": {
            "tags": []
          },
          "execution_count": 44
        }
      ]
    },
    {
      "cell_type": "markdown",
      "metadata": {
        "id": "lgNykfkVlPAq"
      },
      "source": [
        "### 1.6b. Converting from strings to integers or floats\n"
      ]
    },
    {
      "cell_type": "markdown",
      "metadata": {
        "id": "rkSTFCOelV-y"
      },
      "source": [
        "Sometimes, we can have a string that contains a number within it. If this is the case, we can cast that string that represents a number into an integer using int():\n",
        "\n"
      ]
    },
    {
      "cell_type": "code",
      "metadata": {
        "id": "qK1OrMJYlSwk",
        "colab": {
          "base_uri": "https://localhost:8080/",
          "height": 34
        },
        "outputId": "866adff2-3b6e-4a04-e63b-16850dbfc911"
      },
      "source": [
        "# Example 1\n",
        "# Let's convert a string into an integer\n",
        "#\n",
        "int('2')"
      ],
      "execution_count": null,
      "outputs": [
        {
          "output_type": "execute_result",
          "data": {
            "text/plain": [
              "2"
            ]
          },
          "metadata": {
            "tags": []
          },
          "execution_count": 64
        }
      ]
    },
    {
      "cell_type": "code",
      "metadata": {
        "id": "9ixyl-vAljSG",
        "colab": {
          "base_uri": "https://localhost:8080/",
          "height": 34
        },
        "outputId": "7cd36015-f822-4407-de5a-2bf0f4f7b875"
      },
      "source": [
        "# Example 2\n",
        "# But if we try to do so with a string that is not a perfect match for a number, we will get an error. \n",
        "# \n",
        "int( '6'  '2' )"
      ],
      "execution_count": null,
      "outputs": [
        {
          "output_type": "execute_result",
          "data": {
            "text/plain": [
              "62"
            ]
          },
          "metadata": {
            "tags": []
          },
          "execution_count": 67
        }
      ]
    },
    {
      "cell_type": "code",
      "metadata": {
        "id": "1hR-LBq-lvCw",
        "colab": {
          "base_uri": "https://localhost:8080/",
          "height": 34
        },
        "outputId": "ab6359f7-1799-4525-fe15-ed65452735db"
      },
      "source": [
        "# Example 3\n",
        "# We can also convert strings containing floating point numbers into float objects:\n",
        "#\n",
        "float('1.2') "
      ],
      "execution_count": null,
      "outputs": [
        {
          "output_type": "execute_result",
          "data": {
            "text/plain": [
              "1.2"
            ]
          },
          "metadata": {
            "tags": []
          },
          "execution_count": 68
        }
      ]
    },
    {
      "cell_type": "markdown",
      "metadata": {
        "id": "-HTYwkHal6e7"
      },
      "source": [
        "### 1.6c. Converting numbers to strings\n"
      ]
    },
    {
      "cell_type": "markdown",
      "metadata": {
        "id": "gLlTlzYml8Fu"
      },
      "source": [
        "If we can convert strings to numbers, it is only natural to assume that we can convert numbers to strings, right?\n",
        "\n"
      ]
    },
    {
      "cell_type": "code",
      "metadata": {
        "id": "XjEcrrz-mByz",
        "colab": {
          "base_uri": "https://localhost:8080/",
          "height": 34
        },
        "outputId": "be44b9a4-24ed-4ecb-c2a9-b01b8c4883fe"
      },
      "source": [
        "# Example 1\n",
        "# Let's Convert an integer to a string\n",
        "#\n",
        "str(1)"
      ],
      "execution_count": null,
      "outputs": [
        {
          "output_type": "execute_result",
          "data": {
            "text/plain": [
              "'1'"
            ]
          },
          "metadata": {
            "tags": []
          },
          "execution_count": 69
        }
      ]
    },
    {
      "cell_type": "markdown",
      "metadata": {
        "id": "KyVOjrcMr4wI"
      },
      "source": [
        "#### <font color=\"green\">1.6c Challenges</font>"
      ]
    },
    {
      "cell_type": "code",
      "metadata": {
        "id": "Rk4YzQRGmH87",
        "colab": {
          "base_uri": "https://localhost:8080/",
          "height": 34
        },
        "outputId": "c7783904-c597-4868-f67c-d1af7d035b99"
      },
      "source": [
        "# Challenge 1\n",
        "# And there is no reason why we shouldn't be able to make floats into strings as well:\n",
        "# Converting a float 1.2 to a string\n",
        "#\n",
        "str(1.2)"
      ],
      "execution_count": null,
      "outputs": [
        {
          "output_type": "execute_result",
          "data": {
            "text/plain": [
              "'1.2'"
            ]
          },
          "metadata": {
            "tags": []
          },
          "execution_count": 70
        }
      ]
    },
    {
      "cell_type": "code",
      "metadata": {
        "id": "fnw2YsM8vswc",
        "colab": {
          "base_uri": "https://localhost:8080/",
          "height": 34
        },
        "outputId": "a0edbdb8-0cfc-43b2-bb52-38370e181afd"
      },
      "source": [
        "# Challenge 2\n",
        "# How do you convert a digit 6/4 into a string?\n",
        "# \n",
        "str(6/4)"
      ],
      "execution_count": null,
      "outputs": [
        {
          "output_type": "execute_result",
          "data": {
            "text/plain": [
              "'1.5'"
            ]
          },
          "metadata": {
            "tags": []
          },
          "execution_count": 71
        }
      ]
    },
    {
      "cell_type": "markdown",
      "metadata": {
        "id": "eib75N_EnVqp"
      },
      "source": [
        "### 1.6d. Boolean Casting\n",
        "We can cast boolean objects to other data types. If we cast a boolean with a value of True to an integer or float we will get a one. If we cast a boolean with a value of False to an integer or float we will get a zero. Similarly, if we cast a 1 to a Boolean, you get a True. And if we cast a 0 to a Boolean we will get a False. Let's give it a try:\n",
        "\n"
      ]
    },
    {
      "cell_type": "code",
      "metadata": {
        "id": "ggrd56z2rd5u",
        "colab": {
          "base_uri": "https://localhost:8080/",
          "height": 34
        },
        "outputId": "a680db59-e3c1-4d12-89c6-9f6121814d18"
      },
      "source": [
        "# Example 1 \n",
        "# Let's cast 1 to a Boolean \n",
        "bool(1)"
      ],
      "execution_count": null,
      "outputs": [
        {
          "output_type": "execute_result",
          "data": {
            "text/plain": [
              "True"
            ]
          },
          "metadata": {
            "tags": []
          },
          "execution_count": 72
        }
      ]
    },
    {
      "cell_type": "markdown",
      "metadata": {
        "id": "1x6Hvs-jrru7"
      },
      "source": [
        "#### <font color=\"green\">1.6d Challenges</font>"
      ]
    },
    {
      "cell_type": "code",
      "metadata": {
        "id": "JjfxTMb1n_9z",
        "colab": {
          "base_uri": "https://localhost:8080/",
          "height": 34
        },
        "outputId": "8e259c60-327d-4b5c-d8ac-669796b0d620"
      },
      "source": [
        "# Challenge 1\n",
        "# Let's convert the value of True to an integer\n",
        "# \n",
        "bool (2)"
      ],
      "execution_count": null,
      "outputs": [
        {
          "output_type": "execute_result",
          "data": {
            "text/plain": [
              "True"
            ]
          },
          "metadata": {
            "tags": []
          },
          "execution_count": 76
        }
      ]
    },
    {
      "cell_type": "code",
      "metadata": {
        "id": "1x5bcRVfoNHW",
        "colab": {
          "base_uri": "https://localhost:8080/",
          "height": 34
        },
        "outputId": "e8aa78ab-b02f-4458-b332-ec9762c96a5c"
      },
      "source": [
        "# Challenge 2\n",
        "# What happens when we cast a 0 to a Boolean?\n",
        "#\n",
        "bool (0)"
      ],
      "execution_count": null,
      "outputs": [
        {
          "output_type": "execute_result",
          "data": {
            "text/plain": [
              "False"
            ]
          },
          "metadata": {
            "tags": []
          },
          "execution_count": 78
        }
      ]
    },
    {
      "cell_type": "code",
      "metadata": {
        "id": "VrCxNoqXo03X",
        "colab": {
          "base_uri": "https://localhost:8080/",
          "height": 34
        },
        "outputId": "caa7d1fe-310e-4e33-f6a1-955f83b3fdd2"
      },
      "source": [
        "# Challenge 3 \n",
        "# Let's cast a boolean with a value of True to an integer\n",
        "# \n",
        " int (2)"
      ],
      "execution_count": null,
      "outputs": [
        {
          "output_type": "execute_result",
          "data": {
            "text/plain": [
              "2"
            ]
          },
          "metadata": {
            "tags": []
          },
          "execution_count": 80
        }
      ]
    },
    {
      "cell_type": "code",
      "metadata": {
        "id": "A1agu_ZPs6NV"
      },
      "source": [
        ""
      ],
      "execution_count": null,
      "outputs": []
    }
  ]
}